{
 "cells": [
  {
   "cell_type": "code",
   "execution_count": null,
   "metadata": {},
   "outputs": [],
   "source": [
    "from selenium import webdriver\n",
    "from selenium.webdriver.common.by import By"
   ]
  },
  {
   "cell_type": "code",
   "execution_count": null,
   "metadata": {},
   "outputs": [],
   "source": [
    "driver = webdriver.Chrome()\n",
    "driver.get(\"https://bereciucas.ro\")\n",
    "\n",
    "\n",
    "COOKIE_BUTTON_ID = \"CybotCookiebotDialogBodyLevelButtonLevelOptinAllowAll\"\n",
    "cookie_button = driver.find_element( By.ID, COOKIE_BUTTON_ID)\n",
    "cookie_button.click()\n",
    "\n"
   ]
  },
  {
   "cell_type": "code",
   "execution_count": null,
   "metadata": {},
   "outputs": [],
   "source": [
    "# year1_XPATH = '//*[@id=\"ageCheckForm\"]/input[1]'\n",
    "# input_field = driver.find_element(By.XPATH, year1_XPATH )\n",
    "# input_field.send_keys(\"1\")\n",
    "\n",
    "# year2_XPATH = '//*[@id=\"ageCheckForm\"]/input[2]'\n",
    "# input_field = driver.find_element(By.XPATH, year2_XPATH )\n",
    "# input_field.send_keys(\"9\")\n",
    "\n",
    "# year3_XPATH = '//*[@id=\"ageCheckForm\"]/input[3]'\n",
    "# input_field = driver.find_element(By.XPATH, year3_XPATH )\n",
    "# input_field.send_keys(\"8\")\n",
    "\n",
    "# year4_XPATH = '//*[@id=\"ageCheckForm\"]/input[4]'\n",
    "# input_field = driver.find_element(By.XPATH, year4_XPATH )\n",
    "# input_field.send_keys(\"7\")"
   ]
  },
  {
   "cell_type": "code",
   "execution_count": null,
   "metadata": {},
   "outputs": [],
   "source": [
    "#var2:\n",
    "#[\"1\", \"9\", \"8\", \"7\"]\n",
    "\n",
    "values =  \"1987\"\n",
    "for i, val in enumerate(values, start=1):\n",
    "    xpath = f'//*[@id=\"ageCheckForm\"]/input[{i}]'\n",
    "    driver.find_element(By.XPATH, xpath).send_keys(val)\n"
   ]
  },
  {
   "cell_type": "code",
   "execution_count": null,
   "metadata": {},
   "outputs": [],
   "source": [
    "#var3\n",
    "\n",
    "driver.find_elements(By.CLASS_NAME, \"year-char\")[1].send_keys(\"2\")"
   ]
  },
  {
   "cell_type": "code",
   "execution_count": null,
   "metadata": {},
   "outputs": [],
   "source": [
    "driver.find_element(By.NAME,\"year_3\").send_keys(\"9\")"
   ]
  },
  {
   "cell_type": "code",
   "execution_count": null,
   "metadata": {},
   "outputs": [],
   "source": [
    "driver.find_element(By.CSS_SELECTOR, \"year-char.year_4\").send_keys(\"0\")"
   ]
  }
 ],
 "metadata": {
  "kernelspec": {
   "display_name": "base",
   "language": "python",
   "name": "python3"
  },
  "language_info": {
   "codemirror_mode": {
    "name": "ipython",
    "version": 3
   },
   "file_extension": ".py",
   "mimetype": "text/x-python",
   "name": "python",
   "nbconvert_exporter": "python",
   "pygments_lexer": "ipython3",
   "version": "3.12.4"
  }
 },
 "nbformat": 4,
 "nbformat_minor": 2
}
